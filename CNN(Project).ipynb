{
 "cells": [
  {
   "cell_type": "code",
   "execution_count": 2,
   "metadata": {},
   "outputs": [],
   "source": [
    "import tensorflow as tf\n",
    "from tensorflow import keras"
   ]
  },
  {
   "cell_type": "code",
   "execution_count": 3,
   "metadata": {},
   "outputs": [],
   "source": [
    "import pandas as pd\n",
    "import numpy as np\n",
    "import seaborn as sns\n",
    "import matplotlib.pyplot as plt"
   ]
  },
  {
   "cell_type": "code",
   "execution_count": 4,
   "metadata": {},
   "outputs": [],
   "source": [
    "train_dir = r'E:\\DATA\\train'\n",
    "validation_dir = r'E:\\DATA\\validation'\n",
    "test_dir = r'E:\\DATA\\test'"
   ]
  },
  {
   "cell_type": "code",
   "execution_count": 5,
   "metadata": {},
   "outputs": [],
   "source": [
    "from tensorflow.keras.preprocessing.image import ImageDataGenerator"
   ]
  },
  {
   "cell_type": "code",
   "execution_count": 6,
   "metadata": {},
   "outputs": [
    {
     "name": "stdout",
     "output_type": "stream",
     "text": [
      "Found 2000 images belonging to 2 classes.\n",
      "Found 1000 images belonging to 2 classes.\n"
     ]
    }
   ],
   "source": [
    "train_datagen = ImageDataGenerator(rescale = 1./255)\n",
    "test_datagen = ImageDataGenerator(rescale = 1./255)\n",
    "\n",
    "train_generator = train_datagen.flow_from_directory(train_dir,\n",
    "                                                   target_size = (150,150),\n",
    "                                                   batch_size = 20,\n",
    "                                                   class_mode = 'binary')\n",
    "\n",
    "validation_generator = test_datagen.flow_from_directory(validation_dir,\n",
    "                                                   target_size = (150,150),\n",
    "                                                   batch_size = 20,\n",
    "                                                   class_mode = 'binary')"
   ]
  },
  {
   "cell_type": "code",
   "execution_count": 7,
   "metadata": {},
   "outputs": [],
   "source": [
    "from tensorflow.keras import layers\n",
    "from tensorflow.keras import models"
   ]
  },
  {
   "cell_type": "code",
   "execution_count": 8,
   "metadata": {},
   "outputs": [],
   "source": [
    "model = models.Sequential()\n",
    "model.add(layers.Conv2D(32,(3,3),activation='relu',\n",
    "                       input_shape = (150,150,3)))\n",
    "model.add(layers.MaxPooling2D((2,2)))\n",
    "model.add(layers.Conv2D(64,(3,3),activation = 'relu'))\n",
    "model.add(layers.MaxPooling2D((2,2)))\n",
    "model.add(layers.Conv2D(128,(3,3),activation = 'relu'))\n",
    "model.add(layers.MaxPooling2D((2,2)))\n",
    "model.add(layers.Conv2D(128,(3,3),activation = 'relu'))\n",
    "model.add(layers.MaxPooling2D((2,2)))\n",
    "\n",
    "model.add(layers.Flatten())\n",
    "model.add(layers.Dense(512,activation = 'relu'))\n",
    "model.add(layers.Dense(1,activation = 'sigmoid'))"
   ]
  },
  {
   "cell_type": "code",
   "execution_count": 9,
   "metadata": {},
   "outputs": [
    {
     "name": "stdout",
     "output_type": "stream",
     "text": [
      "Model: \"sequential\"\n",
      "_________________________________________________________________\n",
      "Layer (type)                 Output Shape              Param #   \n",
      "=================================================================\n",
      "conv2d (Conv2D)              (None, 148, 148, 32)      896       \n",
      "_________________________________________________________________\n",
      "max_pooling2d (MaxPooling2D) (None, 74, 74, 32)        0         \n",
      "_________________________________________________________________\n",
      "conv2d_1 (Conv2D)            (None, 72, 72, 64)        18496     \n",
      "_________________________________________________________________\n",
      "max_pooling2d_1 (MaxPooling2 (None, 36, 36, 64)        0         \n",
      "_________________________________________________________________\n",
      "conv2d_2 (Conv2D)            (None, 34, 34, 128)       73856     \n",
      "_________________________________________________________________\n",
      "max_pooling2d_2 (MaxPooling2 (None, 17, 17, 128)       0         \n",
      "_________________________________________________________________\n",
      "conv2d_3 (Conv2D)            (None, 15, 15, 128)       147584    \n",
      "_________________________________________________________________\n",
      "max_pooling2d_3 (MaxPooling2 (None, 7, 7, 128)         0         \n",
      "_________________________________________________________________\n",
      "flatten (Flatten)            (None, 6272)              0         \n",
      "_________________________________________________________________\n",
      "dense (Dense)                (None, 512)               3211776   \n",
      "_________________________________________________________________\n",
      "dense_1 (Dense)              (None, 1)                 513       \n",
      "=================================================================\n",
      "Total params: 3,453,121\n",
      "Trainable params: 3,453,121\n",
      "Non-trainable params: 0\n",
      "_________________________________________________________________\n"
     ]
    }
   ],
   "source": [
    "model.summary()"
   ]
  },
  {
   "cell_type": "code",
   "execution_count": 10,
   "metadata": {},
   "outputs": [],
   "source": [
    "from tensorflow.keras import optimizers \n",
    "\n",
    "model.compile(loss = 'binary_crossentropy',\n",
    "             optimizer = optimizers.RMSprop(lr= 0.0001),\n",
    "             metrics=['acc'])"
   ]
  },
  {
   "cell_type": "code",
   "execution_count": 11,
   "metadata": {},
   "outputs": [
    {
     "name": "stdout",
     "output_type": "stream",
     "text": [
      "WARNING:tensorflow:From <ipython-input-11-c94279e950fc>:5: Model.fit_generator (from tensorflow.python.keras.engine.training) is deprecated and will be removed in a future version.\n",
      "Instructions for updating:\n",
      "Please use Model.fit, which supports generators.\n",
      "Epoch 1/20\n",
      "100/100 [==============================] - 86s 864ms/step - loss: 0.6953 - acc: 0.5235 - val_loss: 0.6804 - val_acc: 0.5740\n",
      "Epoch 2/20\n",
      "100/100 [==============================] - 61s 612ms/step - loss: 0.6598 - acc: 0.6135 - val_loss: 0.6379 - val_acc: 0.6280\n",
      "Epoch 3/20\n",
      "100/100 [==============================] - 65s 649ms/step - loss: 0.6152 - acc: 0.6560 - val_loss: 0.6422 - val_acc: 0.6050\n",
      "Epoch 4/20\n",
      "100/100 [==============================] - 53s 532ms/step - loss: 0.5682 - acc: 0.7010 - val_loss: 0.6050 - val_acc: 0.6550\n",
      "Epoch 5/20\n",
      "100/100 [==============================] - 56s 563ms/step - loss: 0.5424 - acc: 0.7235 - val_loss: 0.6513 - val_acc: 0.6380\n",
      "Epoch 6/20\n",
      "100/100 [==============================] - 56s 561ms/step - loss: 0.5213 - acc: 0.7440 - val_loss: 0.6594 - val_acc: 0.6510\n",
      "Epoch 7/20\n",
      "100/100 [==============================] - 57s 572ms/step - loss: 0.4990 - acc: 0.7625 - val_loss: 0.5746 - val_acc: 0.6880\n",
      "Epoch 8/20\n",
      "100/100 [==============================] - 53s 530ms/step - loss: 0.4702 - acc: 0.7750 - val_loss: 0.5725 - val_acc: 0.6950\n",
      "Epoch 9/20\n",
      "100/100 [==============================] - 53s 528ms/step - loss: 0.4442 - acc: 0.7880 - val_loss: 0.5610 - val_acc: 0.6860\n",
      "Epoch 10/20\n",
      "100/100 [==============================] - 55s 553ms/step - loss: 0.4216 - acc: 0.8030 - val_loss: 0.5964 - val_acc: 0.6970\n",
      "Epoch 11/20\n",
      "100/100 [==============================] - 54s 536ms/step - loss: 0.4006 - acc: 0.8165 - val_loss: 0.5862 - val_acc: 0.7110\n",
      "Epoch 12/20\n",
      "100/100 [==============================] - 56s 557ms/step - loss: 0.3753 - acc: 0.8300 - val_loss: 0.5822 - val_acc: 0.7030\n",
      "Epoch 13/20\n",
      "100/100 [==============================] - 53s 530ms/step - loss: 0.3511 - acc: 0.8500 - val_loss: 0.6197 - val_acc: 0.7070\n",
      "Epoch 14/20\n",
      "100/100 [==============================] - 48s 479ms/step - loss: 0.3273 - acc: 0.8575 - val_loss: 0.5753 - val_acc: 0.7070\n",
      "Epoch 15/20\n",
      "100/100 [==============================] - 47s 473ms/step - loss: 0.3112 - acc: 0.8680 - val_loss: 0.5807 - val_acc: 0.7210\n",
      "Epoch 16/20\n",
      "100/100 [==============================] - 47s 466ms/step - loss: 0.2774 - acc: 0.8890 - val_loss: 0.6365 - val_acc: 0.7200\n",
      "Epoch 17/20\n",
      "100/100 [==============================] - 50s 501ms/step - loss: 0.2649 - acc: 0.8920 - val_loss: 0.6140 - val_acc: 0.7220\n",
      "Epoch 18/20\n",
      "100/100 [==============================] - 62s 615ms/step - loss: 0.2372 - acc: 0.9100 - val_loss: 0.5928 - val_acc: 0.7330\n",
      "Epoch 19/20\n",
      "100/100 [==============================] - 50s 502ms/step - loss: 0.2273 - acc: 0.9065 - val_loss: 0.6814 - val_acc: 0.7110\n",
      "Epoch 20/20\n",
      "100/100 [==============================] - 55s 553ms/step - loss: 0.2006 - acc: 0.9195 - val_loss: 0.6410 - val_acc: 0.7390\n"
     ]
    }
   ],
   "source": [
    "history = model.fit_generator(train_generator,\n",
    "                             steps_per_epoch = 100,\n",
    "                             epochs = 20,\n",
    "                             validation_data = validation_generator,\n",
    "                             validation_steps = 50)"
   ]
  },
  {
   "cell_type": "code",
   "execution_count": 12,
   "metadata": {},
   "outputs": [
    {
     "data": {
      "text/plain": [
       "<function matplotlib.pyplot.show(close=None, block=None)>"
      ]
     },
     "execution_count": 12,
     "metadata": {},
     "output_type": "execute_result"
    },
    {
     "data": {
      "image/png": "[encoded data removed]",
      "text/plain": [
       "<Figure size 576x360 with 1 Axes>"
      ]
     },
     "metadata": {
      "needs_background": "light"
     },
     "output_type": "display_data"
    }
   ],
   "source": [
    "pd.DataFrame(history.history).plot(figsize=(8,5))\n",
    "plt.grid(True)\n",
    "plt.gca().set_ylim(0,1)\n",
    "plt.show"
   ]
  },
  {
   "cell_type": "code",
   "execution_count": 13,
   "metadata": {},
   "outputs": [],
   "source": [
    "model.save('CNN_PROJECT.h5')"
   ]
  },
  {
   "cell_type": "code",
   "execution_count": 14,
   "metadata": {},
   "outputs": [],
   "source": [
    "from tensorflow.keras import backend as k \n",
    "k.clear_session()\n",
    "del model"
   ]
  },
  {
   "cell_type": "markdown",
   "metadata": {},
   "source": [
    "# DATA AUGMENTATION"
   ]
  },
  {
   "cell_type": "code",
   "execution_count": 15,
   "metadata": {},
   "outputs": [
    {
     "name": "stdout",
     "output_type": "stream",
     "text": [
      "Found 2000 images belonging to 2 classes.\n",
      "Found 1000 images belonging to 2 classes.\n"
     ]
    }
   ],
   "source": [
    "train_datagen = ImageDataGenerator(rescale = 1./255,\n",
    "                                  rotation_range = 40,\n",
    "                                  width_shift_range = 0.2,\n",
    "                                  height_shift_range = 0.2,\n",
    "                                  shear_range = 0.2,\n",
    "                                  zoom_range = 0.2,\n",
    "                                  horizontal_flip = True)\n",
    "test_datagen = ImageDataGenerator(rescale = 1./255)\n",
    "\n",
    "train_generator = train_datagen.flow_from_directory(train_dir,\n",
    "                                                   target_size = (150,150),\n",
    "                                                   batch_size = 32,\n",
    "                                                   class_mode = 'binary')\n",
    "\n",
    "validation_generator = test_datagen.flow_from_directory(validation_dir,\n",
    "                                                   target_size = (150,150),\n",
    "                                                   batch_size = 32,\n",
    "                                                   class_mode = 'binary')"
   ]
  },
  {
   "cell_type": "code",
   "execution_count": 16,
   "metadata": {},
   "outputs": [],
   "source": [
    "model = models.Sequential()\n",
    "model.add(layers.Conv2D(32,(3,3),activation='relu',\n",
    "                       input_shape = (150,150,3)))\n",
    "model.add(layers.MaxPooling2D((2,2)))\n",
    "model.add(layers.Conv2D(64,(3,3),activation = 'relu'))\n",
    "model.add(layers.MaxPooling2D((2,2)))\n",
    "model.add(layers.Conv2D(128,(3,3),activation = 'relu'))\n",
    "model.add(layers.MaxPooling2D((2,2)))\n",
    "model.add(layers.Conv2D(128,(3,3),activation = 'relu'))\n",
    "model.add(layers.MaxPooling2D((2,2)))\n",
    "\n",
    "model.add(layers.Flatten())\n",
    "model.add(layers.Dropout(0.5))\n",
    "model.add(layers.Dense(512,activation = 'relu'))\n",
    "model.add(layers.Dense(1,activation = 'sigmoid'))"
   ]
  },
  {
   "cell_type": "code",
   "execution_count": 17,
   "metadata": {},
   "outputs": [],
   "source": [
    "from tensorflow.keras import optimizers \n",
    "\n",
    "model.compile(loss = 'binary_crossentropy',\n",
    "             optimizer = optimizers.RMSprop(lr= 0.0001),\n",
    "             metrics=['acc'])"
   ]
  },
  {
   "cell_type": "code",
   "execution_count": 18,
   "metadata": {},
   "outputs": [
    {
     "name": "stdout",
     "output_type": "stream",
     "text": [
      "Epoch 1/20\n",
      "100/100 [==============================] - 74s 736ms/step - loss: 0.6953 - acc: 0.5163 - val_loss: 0.6848 - val_acc: 0.5761\n",
      "Epoch 2/20\n",
      "100/100 [==============================] - 73s 727ms/step - loss: 0.6829 - acc: 0.5628 - val_loss: 0.6643 - val_acc: 0.6076\n",
      "Epoch 3/20\n",
      "100/100 [==============================] - 73s 735ms/step - loss: 0.6728 - acc: 0.5773 - val_loss: 0.6632 - val_acc: 0.5958\n",
      "Epoch 4/20\n",
      "100/100 [==============================] - 73s 733ms/step - loss: 0.6620 - acc: 0.5994 - val_loss: 0.6432 - val_acc: 0.6179\n",
      "Epoch 5/20\n",
      "100/100 [==============================] - 74s 737ms/step - loss: 0.6428 - acc: 0.6351 - val_loss: 0.6268 - val_acc: 0.6383\n",
      "Epoch 6/20\n",
      "100/100 [==============================] - 73s 729ms/step - loss: 0.6270 - acc: 0.6566 - val_loss: 0.6569 - val_acc: 0.6031\n",
      "Epoch 7/20\n",
      "100/100 [==============================] - 73s 730ms/step - loss: 0.6183 - acc: 0.6534 - val_loss: 0.5822 - val_acc: 0.6881\n",
      "Epoch 8/20\n",
      "100/100 [==============================] - 73s 732ms/step - loss: 0.6164 - acc: 0.6639 - val_loss: 0.5798 - val_acc: 0.6834\n",
      "Epoch 9/20\n",
      "100/100 [==============================] - 73s 727ms/step - loss: 0.5916 - acc: 0.6853 - val_loss: 0.5551 - val_acc: 0.7101\n",
      "Epoch 10/20\n",
      "100/100 [==============================] - 73s 734ms/step - loss: 0.5855 - acc: 0.6954 - val_loss: 0.5504 - val_acc: 0.6980\n",
      "Epoch 11/20\n",
      "100/100 [==============================] - 73s 730ms/step - loss: 0.5815 - acc: 0.6916 - val_loss: 0.5342 - val_acc: 0.7197\n",
      "Epoch 12/20\n",
      "100/100 [==============================] - 75s 752ms/step - loss: 0.5759 - acc: 0.6907 - val_loss: 0.5307 - val_acc: 0.7313\n",
      "Epoch 13/20\n",
      "100/100 [==============================] - 255s 3s/step - loss: 0.5692 - acc: 0.7057 - val_loss: 0.5232 - val_acc: 0.7360\n",
      "Epoch 14/20\n",
      "100/100 [==============================] - 88s 884ms/step - loss: 0.5667 - acc: 0.7011 - val_loss: 0.5269 - val_acc: 0.7371\n",
      "Epoch 15/20\n",
      "100/100 [==============================] - 89s 891ms/step - loss: 0.5492 - acc: 0.7145 - val_loss: 0.5293 - val_acc: 0.7240\n",
      "Epoch 16/20\n",
      "100/100 [==============================] - 90s 904ms/step - loss: 0.5506 - acc: 0.7210 - val_loss: 0.5434 - val_acc: 0.7139\n",
      "Epoch 17/20\n",
      "100/100 [==============================] - 89s 892ms/step - loss: 0.5409 - acc: 0.7293 - val_loss: 0.4995 - val_acc: 0.7474\n",
      "Epoch 18/20\n",
      "100/100 [==============================] - 89s 888ms/step - loss: 0.5328 - acc: 0.7270 - val_loss: 0.4916 - val_acc: 0.7582\n",
      "Epoch 19/20\n",
      "100/100 [==============================] - 90s 897ms/step - loss: 0.5335 - acc: 0.7333 - val_loss: 0.5245 - val_acc: 0.7358\n",
      "Epoch 20/20\n",
      "100/100 [==============================] - 89s 886ms/step - loss: 0.5230 - acc: 0.7362 - val_loss: 0.5113 - val_acc: 0.7494\n"
     ]
    }
   ],
   "source": [
    "history = model.fit_generator(train_generator,\n",
    "                             steps_per_epoch = 100,\n",
    "                             epochs = 20,\n",
    "                             validation_data = validation_generator,\n",
    "                             validation_steps = 50)"
   ]
  },
  {
   "cell_type": "code",
   "execution_count": 19,
   "metadata": {},
   "outputs": [
    {
     "data": {
      "text/plain": [
       "<function matplotlib.pyplot.show(close=None, block=None)>"
      ]
     },
     "execution_count": 19,
     "metadata": {},
     "output_type": "execute_result"
    },
    {
     "data": {
      "image/png": "[encoded data removed]",
      "text/plain": [
       "<Figure size 576x360 with 1 Axes>"
      ]
     },
     "metadata": {
      "needs_background": "light"
     },
     "output_type": "display_data"
    }
   ],
   "source": [
    "pd.DataFrame(history.history).plot(figsize=(8,5))\n",
    "plt.grid(True)\n",
    "plt.gca().set_ylim(0,1)\n",
    "plt.show"
   ]
  },
  {
   "cell_type": "markdown",
   "metadata": {},
   "source": [
    "# Transfer Learning VGG16"
   ]
  },
  {
   "cell_type": "code",
   "execution_count": 20,
   "metadata": {},
   "outputs": [
    {
     "name": "stdout",
     "output_type": "stream",
     "text": [
      "Found 2000 images belonging to 2 classes.\n",
      "Found 1000 images belonging to 2 classes.\n"
     ]
    }
   ],
   "source": [
    "train_datagen = ImageDataGenerator(rescale = 1./255,\n",
    "                                  rotation_range = 40,\n",
    "                                  width_shift_range = 0.2,\n",
    "                                  height_shift_range = 0.2,\n",
    "                                  shear_range = 0.2,\n",
    "                                  zoom_range = 0.2,\n",
    "                                  horizontal_flip = True)\n",
    "test_datagen = ImageDataGenerator(rescale = 1./255)\n",
    "\n",
    "train_generator = train_datagen.flow_from_directory(train_dir,\n",
    "                                                   target_size = (150,150),\n",
    "                                                   batch_size = 20,\n",
    "                                                   class_mode = 'binary')\n",
    "\n",
    "validation_generator = test_datagen.flow_from_directory(validation_dir,\n",
    "                                                   target_size = (150,150),\n",
    "                                                   batch_size = 20,\n",
    "                                                   class_mode = 'binary')"
   ]
  },
  {
   "cell_type": "code",
   "execution_count": 22,
   "metadata": {},
   "outputs": [
    {
     "name": "stdout",
     "output_type": "stream",
     "text": [
      "Downloading data from https://storage.googleapis.com/tensorflow/keras-applications/vgg16/vgg16_weights_tf_dim_ordering_tf_kernels_notop.h5\n",
      "58892288/58889256 [==============================] - 24s 0us/step\n"
     ]
    }
   ],
   "source": [
    "from tensorflow.keras.applications import VGG16\n",
    "conv_base = VGG16(weights = 'imagenet',\n",
    "                 include_top = False,\n",
    "                 input_shape = (150,150,3))"
   ]
  },
  {
   "cell_type": "code",
   "execution_count": 23,
   "metadata": {},
   "outputs": [
    {
     "name": "stdout",
     "output_type": "stream",
     "text": [
      "Model: \"vgg16\"\n",
      "_________________________________________________________________\n",
      "Layer (type)                 Output Shape              Param #   \n",
      "=================================================================\n",
      "input_1 (InputLayer)         [(None, 150, 150, 3)]     0         \n",
      "_________________________________________________________________\n",
      "block1_conv1 (Conv2D)        (None, 150, 150, 64)      1792      \n",
      "_________________________________________________________________\n",
      "block1_conv2 (Conv2D)        (None, 150, 150, 64)      36928     \n",
      "_________________________________________________________________\n",
      "block1_pool (MaxPooling2D)   (None, 75, 75, 64)        0         \n",
      "_________________________________________________________________\n",
      "block2_conv1 (Conv2D)        (None, 75, 75, 128)       73856     \n",
      "_________________________________________________________________\n",
      "block2_conv2 (Conv2D)        (None, 75, 75, 128)       147584    \n",
      "_________________________________________________________________\n",
      "block2_pool (MaxPooling2D)   (None, 37, 37, 128)       0         \n",
      "_________________________________________________________________\n",
      "block3_conv1 (Conv2D)        (None, 37, 37, 256)       295168    \n",
      "_________________________________________________________________\n",
      "block3_conv2 (Conv2D)        (None, 37, 37, 256)       590080    \n",
      "_________________________________________________________________\n",
      "block3_conv3 (Conv2D)        (None, 37, 37, 256)       590080    \n",
      "_________________________________________________________________\n",
      "block3_pool (MaxPooling2D)   (None, 18, 18, 256)       0         \n",
      "_________________________________________________________________\n",
      "block4_conv1 (Conv2D)        (None, 18, 18, 512)       1180160   \n",
      "_________________________________________________________________\n",
      "block4_conv2 (Conv2D)        (None, 18, 18, 512)       2359808   \n",
      "_________________________________________________________________\n",
      "block4_conv3 (Conv2D)        (None, 18, 18, 512)       2359808   \n",
      "_________________________________________________________________\n",
      "block4_pool (MaxPooling2D)   (None, 9, 9, 512)         0         \n",
      "_________________________________________________________________\n",
      "block5_conv1 (Conv2D)        (None, 9, 9, 512)         2359808   \n",
      "_________________________________________________________________\n",
      "block5_conv2 (Conv2D)        (None, 9, 9, 512)         2359808   \n",
      "_________________________________________________________________\n",
      "block5_conv3 (Conv2D)        (None, 9, 9, 512)         2359808   \n",
      "_________________________________________________________________\n",
      "block5_pool (MaxPooling2D)   (None, 4, 4, 512)         0         \n",
      "=================================================================\n",
      "Total params: 14,714,688\n",
      "Trainable params: 14,714,688\n",
      "Non-trainable params: 0\n",
      "_________________________________________________________________\n"
     ]
    }
   ],
   "source": [
    "conv_base.summary()"
   ]
  },
  {
   "cell_type": "code",
   "execution_count": 24,
   "metadata": {},
   "outputs": [],
   "source": [
    "model = models.Sequential()\n",
    "model.add(conv_base)\n",
    "model.add(layers.Flatten())\n",
    "model.add(layers.Dense(256,activation = 'relu'))\n",
    "model.add(layers.Dense(1,activation = 'sigmoid'))"
   ]
  },
  {
   "cell_type": "code",
   "execution_count": 25,
   "metadata": {},
   "outputs": [
    {
     "name": "stdout",
     "output_type": "stream",
     "text": [
      "Model: \"sequential_1\"\n",
      "_________________________________________________________________\n",
      "Layer (type)                 Output Shape              Param #   \n",
      "=================================================================\n",
      "vgg16 (Model)                (None, 4, 4, 512)         14714688  \n",
      "_________________________________________________________________\n",
      "flatten_1 (Flatten)          (None, 8192)              0         \n",
      "_________________________________________________________________\n",
      "dense_2 (Dense)              (None, 256)               2097408   \n",
      "_________________________________________________________________\n",
      "dense_3 (Dense)              (None, 1)                 257       \n",
      "=================================================================\n",
      "Total params: 16,812,353\n",
      "Trainable params: 16,812,353\n",
      "Non-trainable params: 0\n",
      "_________________________________________________________________\n"
     ]
    }
   ],
   "source": [
    "model.summary()"
   ]
  },
  {
   "cell_type": "code",
   "execution_count": 27,
   "metadata": {},
   "outputs": [],
   "source": [
    "from tensorflow.keras import optimizers \n",
    "\n",
    "model.compile(loss = 'binary_crossentropy',\n",
    "             optimizer = optimizers.RMSprop(lr=2e-5),\n",
    "             metrics=['acc'])"
   ]
  },
  {
   "cell_type": "code",
   "execution_count": 28,
   "metadata": {},
   "outputs": [],
   "source": [
    "checkpoint_cb = keras.callbacks.ModelCheckpoint(\"CNN_PROJECT_Model-{epoch:02d}.h5\")"
   ]
  },
  {
   "cell_type": "code",
   "execution_count": null,
   "metadata": {},
   "outputs": [
    {
     "name": "stdout",
     "output_type": "stream",
     "text": [
      "Epoch 1/30\n",
      " 16/100 [===>..........................] - ETA: 8:55 - loss: 0.6981 - acc: 0.5625"
     ]
    }
   ],
   "source": [
    "history = model.fit_generator(train_generator,\n",
    "                             steps_per_epoch = 100,\n",
    "                             epochs = 30,\n",
    "                             validation_data = validation_generator,\n",
    "                             validation_steps = 50,\n",
    "                             callbacks=[checkpoint_cb])"
   ]
  },
  {
   "cell_type": "code",
   "execution_count": null,
   "metadata": {},
   "outputs": [],
   "source": [
    "pd.DataFrame(history.history).plot(figsize=(8,5))\n",
    "plt.grid(True)\n",
    "plt.gca().set_ylim(0,1)\n",
    "plt.show"
   ]
  },
  {
   "cell_type": "code",
   "execution_count": null,
   "metadata": {},
   "outputs": [],
   "source": [
    "hist_df = pd.Dataframe(history.history)"
   ]
  },
  {
   "cell_type": "code",
   "execution_count": null,
   "metadata": {},
   "outputs": [],
   "source": [
    "hist_csv_file = 'history.csv'\n",
    "with open(hist_csv_file, mode='w') as f:\n",
    "    hist_df.to_csv(f)"
   ]
  },
  {
   "cell_type": "code",
   "execution_count": null,
   "metadata": {},
   "outputs": [],
   "source": [
    "test_generator = test_datagen.flow_from_directory(test_dir,\n",
    "                                                   target_size = (150,150),\n",
    "                                                   batch_size = 20,\n",
    "                                                   class_mode = 'binary')\n"
   ]
  },
  {
   "cell_type": "code",
   "execution_count": null,
   "metadata": {},
   "outputs": [],
   "source": [
    "model.evaluate_generator(test_generator, steps = 50)"
   ]
  }
 ],
 "metadata": {
  "kernelspec": {
   "display_name": "Python [conda env:py3-TF2.0]",
   "language": "python",
   "name": "conda-env-py3-TF2.0-py"
  }
 },
 "nbformat": 4,
 "nbformat_minor": 4
}
